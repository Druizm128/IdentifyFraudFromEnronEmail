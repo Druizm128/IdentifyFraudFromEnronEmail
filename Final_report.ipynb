{
 "cells": [
  {
   "cell_type": "markdown",
   "metadata": {},
   "source": [
    "# Identifying Fraud from Enron Financial and Email Data"
   ]
  },
  {
   "cell_type": "markdown",
   "metadata": {},
   "source": [
    "<img src=\"images/logo.jpg\">"
   ]
  },
  {
   "cell_type": "markdown",
   "metadata": {},
   "source": [
    "## 1. Context\n",
    "\n",
    "Enron was an energy, commodities and services company that in 2000 was one of the largest companies in the United States, with almost 20,000 staff and claimed revenues of nearly $101 billion dollars. By 2002, it had collapsed into bankruptcy due to widespread corporate fraud, known since as the <a href=\"https://en.wikipedia.org/wiki/Enron_scandal\">Enron Scandal</a>. In the resulting Federal investigation, a significant amount of typically confidential information entered the public record, including emails and financial data for top executives. Many these executives were indicted, reached a settlement or plea deal with the government, or testified in exchange for prosecution immunity."
   ]
  },
  {
   "cell_type": "markdown",
   "metadata": {},
   "source": [
    "## 2. Introduction\n",
    "\n",
    "This document presents the results of a project that applies machine learning techniques to Enron financial and email data to identify persons of interest (POI) that were investigated by the government of the United States for committing fraud. These POI may have been indicted, settled without admitting guilt or testified in exchange for immunity. Supervised learning algorithms such as Naive Bayes, Decision Tree and K Nearest Neighbor (KNN) and Logistic classification are trained to predict the POIs and later tuned to increase the performance of the predictions using several techniques such as feature selection, feature scaling and parameter tuning.\n",
    "\n",
    "The organization of the document is as follows:\n",
    "\n",
    "<ol>\n",
    "<li>Context</li>\n",
    "<li>Introduction</li>\n",
    "<li>Objective</li>\n",
    "<li>Methodology</li>\n",
    "<li>Understanding Enron financial and email dataset</li>\n",
    "<li>Model estimation</li>\n",
    "<li>Feature selection optimization and fine tuning algorithms</li>\n",
    "<li>Conclusion</li>\n",
    "</ol>"
   ]
  },
  {
   "cell_type": "markdown",
   "metadata": {},
   "source": [
    "## 3. Objective\n",
    "<ul>\n",
    "<li><b><i>Train and tune a machine learning algorithm that can predict which employees from Enron are \"Persons of Interest\" using financial and email data.</i></b></li> \n",
    "<ul>"
   ]
  },
  {
   "cell_type": "markdown",
   "metadata": {},
   "source": [
    "## 4. Methodology"
   ]
  },
  {
   "cell_type": "markdown",
   "metadata": {},
   "source": [
    "The project was conducted in a seven steps as shown in the figure below. "
   ]
  },
  {
   "cell_type": "markdown",
   "metadata": {},
   "source": [
    "<img src=\"images/methodology.jpg\">"
   ]
  },
  {
   "cell_type": "markdown",
   "metadata": {
    "collapsed": true
   },
   "source": [
    "<ol>\n",
    "<li><b>Exploratory data analysis:</b> dimensions of data, identification of NaNs, exploration of extreme values, descriptive statistics and plotting possible relationships.</li>\n",
    "<li><b>Data cleaning:</b> substitution of NaNs for zeros and removal of outliers considered non persons.</li>\n",
    "<li><b>New feature engineering:</b> Creation of two additional variables from the existing data.</li>\n",
    "<li><b>Algorithm selection:</b> Supervised learning classifiers such as Naive Bayes, Decision Tree, Logistic Regression and K-Nearest Neighbors.</li>\n",
    "<li><b>Model optimization:</b> Scaling with minimum and maximum method, feature selection using select K-best parameters method, parameter optimization using grid search algorithm, and cross validation using stratified K-Fold method.</li>\n",
    "</ol>"
   ]
  },
  {
   "cell_type": "markdown",
   "metadata": {},
   "source": [
    "The data analysis and machine learning engineering process was conducted in Python. The main libraries used in this project were the following:\n",
    "\n",
    "<ul>\n",
    "<li><b>Data analysis:</b> numpy, pandas</li>\n",
    "<li><b>Data processing:</b> pickle</li>\n",
    "<li><b>Data visualization:</b> seaborn, matplotlib</li>\n",
    "<li><b>Machine learning:</b> sklearn</li>\n",
    "</ul>\n",
    "\n",
    "The datasets were downloaded from <a href='https://www.cs.cmu.edu/~./enron/'>Carnegie Mellon Computer Science Department</a>:\n",
    "<ul>\n",
    "<li>Financial data by employee</li>\n",
    "<li>Email data</li>\n",
    "</ul>"
   ]
  },
  {
   "cell_type": "markdown",
   "metadata": {},
   "source": [
    "The following code loads the packages necessary to execute the data analysis and processing."
   ]
  },
  {
   "cell_type": "code",
   "execution_count": 22,
   "metadata": {
    "collapsed": false
   },
   "outputs": [
    {
     "name": "stdout",
     "output_type": "stream",
     "text": [
      "Populating the interactive namespace from numpy and matplotlib\n"
     ]
    }
   ],
   "source": [
    "#!/usr/bin/python\n",
    "import sys\n",
    "import pickle\n",
    "import numpy as np\n",
    "import pandas as pd \n",
    "import matplotlib.pyplot as plt\n",
    "import seaborn as sns\n",
    "sys.path.append(\"../tools/\")\n",
    "from feature_format import featureFormat, targetFeatureSplit\n",
    "from tester import dump_classifier_and_data, test_classifier\n",
    "import pprint\n",
    "%pylab inline"
   ]
  },
  {
   "cell_type": "markdown",
   "metadata": {},
   "source": [
    "## 5. Understanding Enron financial and email dataset\n",
    "\n",
    "In this section an initial data exploration is conducted to familiarize with the dataset.\n",
    "\n",
    "The Enron financial and email data contains the following <b>fields by employee</b>:\n",
    "\n",
    "<ul>\n",
    "<li><b>POI labels:</b> boolean, True if POI and False if not POI.\n",
    "<li><b>Financial data features (integers): </b>salary, bonus, long term incentive, deferred income, deferral payments, loan advances, other, expenses, director fees, total payments, exercised stock options, restricted stock, restricted stock deferred, total stock value\n",
    "<li><b>Email data features (integers): </b>to messages, from poi to this person, from messages, from this person to poi, shared receipt with poi</li>\n",
    "</ul>"
   ]
  },
  {
   "cell_type": "markdown",
   "metadata": {},
   "source": [
    "<b>a) Dimensions of the dataset: </b>\n",
    "\n",
    "The dataset contains 146 rows and 20 variables."
   ]
  },
  {
   "cell_type": "code",
   "execution_count": 23,
   "metadata": {
    "collapsed": false
   },
   "outputs": [
    {
     "name": "stdout",
     "output_type": "stream",
     "text": [
      "Dimensions of dataset (Rows, Cols):  (146, 20)\n"
     ]
    }
   ],
   "source": [
    "# features_list is a list of strings, each of which is a feature name.\n",
    "# The first feature must be \"poi\".\n",
    "features_list = ['poi','salary','bonus','long_term_incentive','deferred_income','deferral_payments','loan_advances','other','expenses','director_fees','total_payments','exercised_stock_options','restricted_stock','restricted_stock_deferred','total_stock_value','to_messages','from_poi_to_this_person','from_messages','from_this_person_to_poi','shared_receipt_with_poi']\n",
    "### Load the dictionary containing the dataset\n",
    "with open(\"final_project_dataset.pkl\", \"r\") as data_file:\n",
    "    data_dict = pickle.load(data_file)\n",
    "\n",
    "employees = pd.Series(list(data_dict.keys()))\n",
    "formattedData = featureFormat(data_dict, features_list, remove_NaN=False, remove_all_zeroes=False, remove_any_zeroes=False, sort_keys = True)\n",
    "formattedDataDf = pd.DataFrame(formattedData)\n",
    "formattedDataDf.columns = features_list\n",
    "print 'Dimensions of dataset (Rows, Cols): ', formattedDataDf.shape"
   ]
  },
  {
   "cell_type": "markdown",
   "metadata": {},
   "source": [
    "<b>b) Exploration of NaNs:</b>"
   ]
  },
  {
   "cell_type": "markdown",
   "metadata": {},
   "source": [
    "A quick view to the first five rows of the Enron Data show that most of the fields contain NaNs."
   ]
  },
  {
   "cell_type": "code",
   "execution_count": 24,
   "metadata": {
    "collapsed": false
   },
   "outputs": [
    {
     "data": {
      "text/html": [
       "<div>\n",
       "<table border=\"1\" class=\"dataframe\">\n",
       "  <thead>\n",
       "    <tr style=\"text-align: right;\">\n",
       "      <th></th>\n",
       "      <th>poi</th>\n",
       "      <th>salary</th>\n",
       "      <th>bonus</th>\n",
       "      <th>long_term_incentive</th>\n",
       "      <th>deferred_income</th>\n",
       "      <th>deferral_payments</th>\n",
       "      <th>loan_advances</th>\n",
       "      <th>other</th>\n",
       "      <th>expenses</th>\n",
       "      <th>director_fees</th>\n",
       "      <th>total_payments</th>\n",
       "      <th>exercised_stock_options</th>\n",
       "      <th>restricted_stock</th>\n",
       "      <th>restricted_stock_deferred</th>\n",
       "      <th>total_stock_value</th>\n",
       "      <th>to_messages</th>\n",
       "      <th>from_poi_to_this_person</th>\n",
       "      <th>from_messages</th>\n",
       "      <th>from_this_person_to_poi</th>\n",
       "      <th>shared_receipt_with_poi</th>\n",
       "    </tr>\n",
       "  </thead>\n",
       "  <tbody>\n",
       "    <tr>\n",
       "      <th>0</th>\n",
       "      <td>0.0</td>\n",
       "      <td>201955.0</td>\n",
       "      <td>4175000.0</td>\n",
       "      <td>304805.0</td>\n",
       "      <td>-3081055.0</td>\n",
       "      <td>2869717.0</td>\n",
       "      <td>NaN</td>\n",
       "      <td>152.0</td>\n",
       "      <td>13868.0</td>\n",
       "      <td>NaN</td>\n",
       "      <td>4484442.0</td>\n",
       "      <td>1729541.0</td>\n",
       "      <td>126027.0</td>\n",
       "      <td>-126027.0</td>\n",
       "      <td>1729541.0</td>\n",
       "      <td>2902.0</td>\n",
       "      <td>47.0</td>\n",
       "      <td>2195.0</td>\n",
       "      <td>65.0</td>\n",
       "      <td>1407.0</td>\n",
       "    </tr>\n",
       "    <tr>\n",
       "      <th>1</th>\n",
       "      <td>0.0</td>\n",
       "      <td>NaN</td>\n",
       "      <td>NaN</td>\n",
       "      <td>NaN</td>\n",
       "      <td>NaN</td>\n",
       "      <td>178980.0</td>\n",
       "      <td>NaN</td>\n",
       "      <td>NaN</td>\n",
       "      <td>3486.0</td>\n",
       "      <td>NaN</td>\n",
       "      <td>182466.0</td>\n",
       "      <td>257817.0</td>\n",
       "      <td>NaN</td>\n",
       "      <td>NaN</td>\n",
       "      <td>257817.0</td>\n",
       "      <td>NaN</td>\n",
       "      <td>NaN</td>\n",
       "      <td>NaN</td>\n",
       "      <td>NaN</td>\n",
       "      <td>NaN</td>\n",
       "    </tr>\n",
       "    <tr>\n",
       "      <th>2</th>\n",
       "      <td>0.0</td>\n",
       "      <td>477.0</td>\n",
       "      <td>NaN</td>\n",
       "      <td>NaN</td>\n",
       "      <td>-5104.0</td>\n",
       "      <td>NaN</td>\n",
       "      <td>NaN</td>\n",
       "      <td>864523.0</td>\n",
       "      <td>56301.0</td>\n",
       "      <td>NaN</td>\n",
       "      <td>916197.0</td>\n",
       "      <td>4046157.0</td>\n",
       "      <td>1757552.0</td>\n",
       "      <td>-560222.0</td>\n",
       "      <td>5243487.0</td>\n",
       "      <td>566.0</td>\n",
       "      <td>39.0</td>\n",
       "      <td>29.0</td>\n",
       "      <td>0.0</td>\n",
       "      <td>465.0</td>\n",
       "    </tr>\n",
       "    <tr>\n",
       "      <th>3</th>\n",
       "      <td>0.0</td>\n",
       "      <td>267102.0</td>\n",
       "      <td>1200000.0</td>\n",
       "      <td>1586055.0</td>\n",
       "      <td>-1386055.0</td>\n",
       "      <td>1295738.0</td>\n",
       "      <td>NaN</td>\n",
       "      <td>2660303.0</td>\n",
       "      <td>11200.0</td>\n",
       "      <td>NaN</td>\n",
       "      <td>5634343.0</td>\n",
       "      <td>6680544.0</td>\n",
       "      <td>3942714.0</td>\n",
       "      <td>NaN</td>\n",
       "      <td>10623258.0</td>\n",
       "      <td>NaN</td>\n",
       "      <td>NaN</td>\n",
       "      <td>NaN</td>\n",
       "      <td>NaN</td>\n",
       "      <td>NaN</td>\n",
       "    </tr>\n",
       "    <tr>\n",
       "      <th>4</th>\n",
       "      <td>0.0</td>\n",
       "      <td>239671.0</td>\n",
       "      <td>400000.0</td>\n",
       "      <td>NaN</td>\n",
       "      <td>-201641.0</td>\n",
       "      <td>260455.0</td>\n",
       "      <td>NaN</td>\n",
       "      <td>69.0</td>\n",
       "      <td>129142.0</td>\n",
       "      <td>NaN</td>\n",
       "      <td>827696.0</td>\n",
       "      <td>NaN</td>\n",
       "      <td>145796.0</td>\n",
       "      <td>-82782.0</td>\n",
       "      <td>63014.0</td>\n",
       "      <td>NaN</td>\n",
       "      <td>NaN</td>\n",
       "      <td>NaN</td>\n",
       "      <td>NaN</td>\n",
       "      <td>NaN</td>\n",
       "    </tr>\n",
       "  </tbody>\n",
       "</table>\n",
       "</div>"
      ],
      "text/plain": [
       "   poi    salary      bonus  long_term_incentive  deferred_income  \\\n",
       "0  0.0  201955.0  4175000.0             304805.0       -3081055.0   \n",
       "1  0.0       NaN        NaN                  NaN              NaN   \n",
       "2  0.0     477.0        NaN                  NaN          -5104.0   \n",
       "3  0.0  267102.0  1200000.0            1586055.0       -1386055.0   \n",
       "4  0.0  239671.0   400000.0                  NaN        -201641.0   \n",
       "\n",
       "   deferral_payments  loan_advances      other  expenses  director_fees  \\\n",
       "0          2869717.0            NaN      152.0   13868.0            NaN   \n",
       "1           178980.0            NaN        NaN    3486.0            NaN   \n",
       "2                NaN            NaN   864523.0   56301.0            NaN   \n",
       "3          1295738.0            NaN  2660303.0   11200.0            NaN   \n",
       "4           260455.0            NaN       69.0  129142.0            NaN   \n",
       "\n",
       "   total_payments  exercised_stock_options  restricted_stock  \\\n",
       "0       4484442.0                1729541.0          126027.0   \n",
       "1        182466.0                 257817.0               NaN   \n",
       "2        916197.0                4046157.0         1757552.0   \n",
       "3       5634343.0                6680544.0         3942714.0   \n",
       "4        827696.0                      NaN          145796.0   \n",
       "\n",
       "   restricted_stock_deferred  total_stock_value  to_messages  \\\n",
       "0                  -126027.0          1729541.0       2902.0   \n",
       "1                        NaN           257817.0          NaN   \n",
       "2                  -560222.0          5243487.0        566.0   \n",
       "3                        NaN         10623258.0          NaN   \n",
       "4                   -82782.0            63014.0          NaN   \n",
       "\n",
       "   from_poi_to_this_person  from_messages  from_this_person_to_poi  \\\n",
       "0                     47.0         2195.0                     65.0   \n",
       "1                      NaN            NaN                      NaN   \n",
       "2                     39.0           29.0                      0.0   \n",
       "3                      NaN            NaN                      NaN   \n",
       "4                      NaN            NaN                      NaN   \n",
       "\n",
       "   shared_receipt_with_poi  \n",
       "0                   1407.0  \n",
       "1                      NaN  \n",
       "2                    465.0  \n",
       "3                      NaN  \n",
       "4                      NaN  "
      ]
     },
     "execution_count": 24,
     "metadata": {},
     "output_type": "execute_result"
    }
   ],
   "source": [
    "formattedDataDf.head()"
   ]
  },
  {
   "cell_type": "markdown",
   "metadata": {},
   "source": [
    "<b>The following table shows the 20 fields in the database and the number of NaNs present</b>. It can be seen that all fields except POI contain NaNs. In particular the top 5 fields with most NaNs are loan_advances, director_fees, restricted_stock_deferred, deferal_payments and deferral_payments. These fields have NaNs in more than 60% of the observations. In part, this is due to the fact that these employees do not have a value in the mentioned fields."
   ]
  },
  {
   "cell_type": "code",
   "execution_count": 25,
   "metadata": {
    "collapsed": false
   },
   "outputs": [
    {
     "data": {
      "text/html": [
       "<div>\n",
       "<table border=\"1\" class=\"dataframe\">\n",
       "  <thead>\n",
       "    <tr style=\"text-align: right;\">\n",
       "      <th></th>\n",
       "      <th>Percentage_of_NaNs_from_Total</th>\n",
       "      <th>Total_NaNs</th>\n",
       "    </tr>\n",
       "  </thead>\n",
       "  <tbody>\n",
       "    <tr>\n",
       "      <th>loan_advances</th>\n",
       "      <td>97.260274</td>\n",
       "      <td>142</td>\n",
       "    </tr>\n",
       "    <tr>\n",
       "      <th>director_fees</th>\n",
       "      <td>88.356164</td>\n",
       "      <td>129</td>\n",
       "    </tr>\n",
       "    <tr>\n",
       "      <th>restricted_stock_deferred</th>\n",
       "      <td>87.671233</td>\n",
       "      <td>128</td>\n",
       "    </tr>\n",
       "    <tr>\n",
       "      <th>deferral_payments</th>\n",
       "      <td>73.287671</td>\n",
       "      <td>107</td>\n",
       "    </tr>\n",
       "    <tr>\n",
       "      <th>deferred_income</th>\n",
       "      <td>66.438356</td>\n",
       "      <td>97</td>\n",
       "    </tr>\n",
       "    <tr>\n",
       "      <th>long_term_incentive</th>\n",
       "      <td>54.794521</td>\n",
       "      <td>80</td>\n",
       "    </tr>\n",
       "    <tr>\n",
       "      <th>bonus</th>\n",
       "      <td>43.835616</td>\n",
       "      <td>64</td>\n",
       "    </tr>\n",
       "    <tr>\n",
       "      <th>shared_receipt_with_poi</th>\n",
       "      <td>41.095890</td>\n",
       "      <td>60</td>\n",
       "    </tr>\n",
       "    <tr>\n",
       "      <th>to_messages</th>\n",
       "      <td>41.095890</td>\n",
       "      <td>60</td>\n",
       "    </tr>\n",
       "    <tr>\n",
       "      <th>from_this_person_to_poi</th>\n",
       "      <td>41.095890</td>\n",
       "      <td>60</td>\n",
       "    </tr>\n",
       "    <tr>\n",
       "      <th>from_poi_to_this_person</th>\n",
       "      <td>41.095890</td>\n",
       "      <td>60</td>\n",
       "    </tr>\n",
       "    <tr>\n",
       "      <th>from_messages</th>\n",
       "      <td>41.095890</td>\n",
       "      <td>60</td>\n",
       "    </tr>\n",
       "    <tr>\n",
       "      <th>other</th>\n",
       "      <td>36.301370</td>\n",
       "      <td>53</td>\n",
       "    </tr>\n",
       "    <tr>\n",
       "      <th>salary</th>\n",
       "      <td>34.931507</td>\n",
       "      <td>51</td>\n",
       "    </tr>\n",
       "    <tr>\n",
       "      <th>expenses</th>\n",
       "      <td>34.931507</td>\n",
       "      <td>51</td>\n",
       "    </tr>\n",
       "    <tr>\n",
       "      <th>exercised_stock_options</th>\n",
       "      <td>30.136986</td>\n",
       "      <td>44</td>\n",
       "    </tr>\n",
       "    <tr>\n",
       "      <th>restricted_stock</th>\n",
       "      <td>24.657534</td>\n",
       "      <td>36</td>\n",
       "    </tr>\n",
       "    <tr>\n",
       "      <th>total_payments</th>\n",
       "      <td>14.383562</td>\n",
       "      <td>21</td>\n",
       "    </tr>\n",
       "    <tr>\n",
       "      <th>total_stock_value</th>\n",
       "      <td>13.698630</td>\n",
       "      <td>20</td>\n",
       "    </tr>\n",
       "    <tr>\n",
       "      <th>poi</th>\n",
       "      <td>0.000000</td>\n",
       "      <td>0</td>\n",
       "    </tr>\n",
       "  </tbody>\n",
       "</table>\n",
       "</div>"
      ],
      "text/plain": [
       "                           Percentage_of_NaNs_from_Total  Total_NaNs\n",
       "loan_advances                                  97.260274         142\n",
       "director_fees                                  88.356164         129\n",
       "restricted_stock_deferred                      87.671233         128\n",
       "deferral_payments                              73.287671         107\n",
       "deferred_income                                66.438356          97\n",
       "long_term_incentive                            54.794521          80\n",
       "bonus                                          43.835616          64\n",
       "shared_receipt_with_poi                        41.095890          60\n",
       "to_messages                                    41.095890          60\n",
       "from_this_person_to_poi                        41.095890          60\n",
       "from_poi_to_this_person                        41.095890          60\n",
       "from_messages                                  41.095890          60\n",
       "other                                          36.301370          53\n",
       "salary                                         34.931507          51\n",
       "expenses                                       34.931507          51\n",
       "exercised_stock_options                        30.136986          44\n",
       "restricted_stock                               24.657534          36\n",
       "total_payments                                 14.383562          21\n",
       "total_stock_value                              13.698630          20\n",
       "poi                                             0.000000           0"
      ]
     },
     "execution_count": 25,
     "metadata": {},
     "output_type": "execute_result"
    }
   ],
   "source": [
    "numberOfNans = formattedDataDf.isnull().sum()\n",
    "percentageOfNansInCol = (formattedDataDf.isnull().sum() / 146) * 100\n",
    "\n",
    "nanResults  = {'Percentage_of_NaNs_from_Total': percentageOfNansInCol, 'Total_NaNs': numberOfNans,}\n",
    "nansDf = pd.DataFrame(nanResults)\n",
    "nansDf.sort_values(by='Total_NaNs', ascending=False)"
   ]
  },
  {
   "cell_type": "markdown",
   "metadata": {},
   "source": [
    "NaNs must be cleaned before proceeding to the analysis."
   ]
  },
  {
   "cell_type": "markdown",
   "metadata": {},
   "source": [
    "<b>c) Exploration of extreme values:</b>"
   ]
  },
  {
   "cell_type": "markdown",
   "metadata": {},
   "source": [
    "When ordering the dataset in salary descending order, a total entry was found. This is entry is an outlier that must be removed from the dataset."
   ]
  },
  {
   "cell_type": "code",
   "execution_count": 26,
   "metadata": {
    "collapsed": false
   },
   "outputs": [
    {
     "data": {
      "text/html": [
       "<div>\n",
       "<table border=\"1\" class=\"dataframe\">\n",
       "  <thead>\n",
       "    <tr style=\"text-align: right;\">\n",
       "      <th></th>\n",
       "      <th>poi</th>\n",
       "      <th>salary</th>\n",
       "      <th>bonus</th>\n",
       "      <th>long_term_incentive</th>\n",
       "      <th>deferred_income</th>\n",
       "      <th>deferral_payments</th>\n",
       "      <th>loan_advances</th>\n",
       "      <th>other</th>\n",
       "      <th>expenses</th>\n",
       "      <th>director_fees</th>\n",
       "      <th>total_payments</th>\n",
       "      <th>exercised_stock_options</th>\n",
       "      <th>restricted_stock</th>\n",
       "      <th>restricted_stock_deferred</th>\n",
       "      <th>total_stock_value</th>\n",
       "      <th>to_messages</th>\n",
       "      <th>from_poi_to_this_person</th>\n",
       "      <th>from_messages</th>\n",
       "      <th>from_this_person_to_poi</th>\n",
       "      <th>shared_receipt_with_poi</th>\n",
       "    </tr>\n",
       "  </thead>\n",
       "  <tbody>\n",
       "    <tr>\n",
       "      <th>130</th>\n",
       "      <td>0.0</td>\n",
       "      <td>26704229.0</td>\n",
       "      <td>97343619.0</td>\n",
       "      <td>48521928.0</td>\n",
       "      <td>-27992891.0</td>\n",
       "      <td>32083396.0</td>\n",
       "      <td>83925000.0</td>\n",
       "      <td>42667589.0</td>\n",
       "      <td>5235198.0</td>\n",
       "      <td>1398517.0</td>\n",
       "      <td>309886585.0</td>\n",
       "      <td>311764000.0</td>\n",
       "      <td>130322299.0</td>\n",
       "      <td>-7576788.0</td>\n",
       "      <td>434509511.0</td>\n",
       "      <td>NaN</td>\n",
       "      <td>NaN</td>\n",
       "      <td>NaN</td>\n",
       "      <td>NaN</td>\n",
       "      <td>NaN</td>\n",
       "    </tr>\n",
       "    <tr>\n",
       "      <th>122</th>\n",
       "      <td>1.0</td>\n",
       "      <td>1111258.0</td>\n",
       "      <td>5600000.0</td>\n",
       "      <td>1920000.0</td>\n",
       "      <td>NaN</td>\n",
       "      <td>NaN</td>\n",
       "      <td>NaN</td>\n",
       "      <td>22122.0</td>\n",
       "      <td>29336.0</td>\n",
       "      <td>NaN</td>\n",
       "      <td>8682716.0</td>\n",
       "      <td>19250000.0</td>\n",
       "      <td>6843672.0</td>\n",
       "      <td>NaN</td>\n",
       "      <td>26093672.0</td>\n",
       "      <td>3627.0</td>\n",
       "      <td>88.0</td>\n",
       "      <td>108.0</td>\n",
       "      <td>30.0</td>\n",
       "      <td>2042.0</td>\n",
       "    </tr>\n",
       "    <tr>\n",
       "      <th>79</th>\n",
       "      <td>1.0</td>\n",
       "      <td>1072321.0</td>\n",
       "      <td>7000000.0</td>\n",
       "      <td>3600000.0</td>\n",
       "      <td>-300000.0</td>\n",
       "      <td>202911.0</td>\n",
       "      <td>81525000.0</td>\n",
       "      <td>10359729.0</td>\n",
       "      <td>99832.0</td>\n",
       "      <td>NaN</td>\n",
       "      <td>103559793.0</td>\n",
       "      <td>34348384.0</td>\n",
       "      <td>14761694.0</td>\n",
       "      <td>NaN</td>\n",
       "      <td>49110078.0</td>\n",
       "      <td>4273.0</td>\n",
       "      <td>123.0</td>\n",
       "      <td>36.0</td>\n",
       "      <td>16.0</td>\n",
       "      <td>2411.0</td>\n",
       "    </tr>\n",
       "  </tbody>\n",
       "</table>\n",
       "</div>"
      ],
      "text/plain": [
       "     poi      salary       bonus  long_term_incentive  deferred_income  \\\n",
       "130  0.0  26704229.0  97343619.0           48521928.0      -27992891.0   \n",
       "122  1.0   1111258.0   5600000.0            1920000.0              NaN   \n",
       "79   1.0   1072321.0   7000000.0            3600000.0        -300000.0   \n",
       "\n",
       "     deferral_payments  loan_advances       other   expenses  director_fees  \\\n",
       "130         32083396.0     83925000.0  42667589.0  5235198.0      1398517.0   \n",
       "122                NaN            NaN     22122.0    29336.0            NaN   \n",
       "79            202911.0     81525000.0  10359729.0    99832.0            NaN   \n",
       "\n",
       "     total_payments  exercised_stock_options  restricted_stock  \\\n",
       "130     309886585.0              311764000.0       130322299.0   \n",
       "122       8682716.0               19250000.0         6843672.0   \n",
       "79      103559793.0               34348384.0        14761694.0   \n",
       "\n",
       "     restricted_stock_deferred  total_stock_value  to_messages  \\\n",
       "130                 -7576788.0        434509511.0          NaN   \n",
       "122                        NaN         26093672.0       3627.0   \n",
       "79                         NaN         49110078.0       4273.0   \n",
       "\n",
       "     from_poi_to_this_person  from_messages  from_this_person_to_poi  \\\n",
       "130                      NaN            NaN                      NaN   \n",
       "122                     88.0          108.0                     30.0   \n",
       "79                     123.0           36.0                     16.0   \n",
       "\n",
       "     shared_receipt_with_poi  \n",
       "130                      NaN  \n",
       "122                   2042.0  \n",
       "79                    2411.0  "
      ]
     },
     "execution_count": 26,
     "metadata": {},
     "output_type": "execute_result"
    }
   ],
   "source": [
    "formattedDataDf.sort_values('salary',ascending=False).head(3)"
   ]
  },
  {
   "cell_type": "markdown",
   "metadata": {},
   "source": [
    "This initial exploratory analysis showed the presence of NaNs and outliers that will have to be cleaned from the dataset in the following section."
   ]
  },
  {
   "cell_type": "markdown",
   "metadata": {},
   "source": [
    "<b>d) Removal of outliers:</b>"
   ]
  },
  {
   "cell_type": "markdown",
   "metadata": {},
   "source": [
    "In this section an initial selection of features is conducted and then cleaned. Outliers are removed and new features are created and added to the dataset."
   ]
  },
  {
   "cell_type": "code",
   "execution_count": 27,
   "metadata": {
    "collapsed": true
   },
   "outputs": [],
   "source": [
    "# features_list is a list of strings, each of which is a feature name.\n",
    "# The first feature must be \"poi\".\n",
    "\n",
    "#features_list = ['poi','bonus','exercised_stock_options','fraction_from_poi_messages']\n",
    "#features_list = ['poi','salary','bonus','long_term_incentive','exercised_stock_options','restricted_stock','fraction_to_poi_messages','fraction_from_poi_messages']\n",
    "#features_list = ['poi','total_payments','total_stock_value','fraction_to_poi_messages','fraction_from_poi_messages']\n",
    "features_list = ['poi','salary','bonus','long_term_incentive','deferred_income','deferral_payments','loan_advances','other','expenses','director_fees','exercised_stock_options','restricted_stock','restricted_stock_deferred','fraction_to_poi_messages','fraction_from_poi_messages']\n",
    "# features_list = ['poi','salary','bonus','long_term_incentive','deferred_income','deferral_payments','loan_advances','other','expenses','director_fees','total_payments','exercised_stock_options','restricted_stock','restricted_stock_deferred','total_stock_value','to_messages','from_poi_to_this_person','from_messages','from_this_person_to_poi','shared_receipt_with_poi','fraction_to_poi_messages','fraction_from_poi_messages']\n",
    "\n",
    "### Load the dictionary containing the dataset\n",
    "with open(\"final_project_dataset.pkl\", \"r\") as data_file:\n",
    "    data_dict = pickle.load(data_file)"
   ]
  },
  {
   "cell_type": "markdown",
   "metadata": {},
   "source": [
    "For the purposes of this analysis only other entries different to persons were considered outliers and removed from the dataset. Previously, a TOTAL entry was found but also a new outlier was identified, THE TRAVEL AGENCY IN THE PARK entry. These two were removed from the data."
   ]
  },
  {
   "cell_type": "code",
   "execution_count": 28,
   "metadata": {
    "collapsed": false
   },
   "outputs": [
    {
     "data": {
      "text/plain": [
       "{'bonus': 'NaN',\n",
       " 'deferral_payments': 'NaN',\n",
       " 'deferred_income': 'NaN',\n",
       " 'director_fees': 'NaN',\n",
       " 'email_address': 'NaN',\n",
       " 'exercised_stock_options': 'NaN',\n",
       " 'expenses': 'NaN',\n",
       " 'from_messages': 'NaN',\n",
       " 'from_poi_to_this_person': 'NaN',\n",
       " 'from_this_person_to_poi': 'NaN',\n",
       " 'loan_advances': 'NaN',\n",
       " 'long_term_incentive': 'NaN',\n",
       " 'other': 362096,\n",
       " 'poi': False,\n",
       " 'restricted_stock': 'NaN',\n",
       " 'restricted_stock_deferred': 'NaN',\n",
       " 'salary': 'NaN',\n",
       " 'shared_receipt_with_poi': 'NaN',\n",
       " 'to_messages': 'NaN',\n",
       " 'total_payments': 362096,\n",
       " 'total_stock_value': 'NaN'}"
      ]
     },
     "execution_count": 28,
     "metadata": {},
     "output_type": "execute_result"
    }
   ],
   "source": [
    "data_dict.pop('TOTAL',0)\n",
    "data_dict.pop('THE TRAVEL AGENCY IN THE PARK',0)"
   ]
  },
  {
   "cell_type": "markdown",
   "metadata": {},
   "source": [
    "<b>e) Engineering of new features:</b>\n",
    "\n",
    "Two additional features were created:\n",
    "<ul>\n",
    "<li>Fraction of emails written to POI from total written emails.</li>\n",
    "<li>Fraction of emails received from POI from total received emails.</li>\n",
    "</ul>\n",
    "\n",
    "The rational for including this features in the project is that in some sense they reduce the dimensionality of the emails data and also these relative measurements sort of normalize this information across the rest of the employees.\n"
   ]
  },
  {
   "cell_type": "code",
   "execution_count": 33,
   "metadata": {
    "collapsed": true
   },
   "outputs": [],
   "source": [
    "for name in data_dict:\n",
    "    from_poi_to_this_person = data_dict[name]['from_poi_to_this_person']\n",
    "    to_messages = data_dict[name]['to_messages']\n",
    "    \n",
    "    if from_poi_to_this_person == 'NaN' or to_messages == 'NaN':\n",
    "        data_dict[name]['fraction_to_poi_messages'] = 0\n",
    "    else:\n",
    "        data_dict[name]['fraction_to_poi_messages'] = float(from_poi_to_this_person) / float(to_messages)\n",
    "\n",
    "    from_this_person_to_poi = data_dict[name]['from_this_person_to_poi']\n",
    "    from_messages = data_dict[name]['from_messages']\n",
    "\n",
    "    if from_this_person_to_poi == 'NaN' or from_messages == 'NaN':\n",
    "        data_dict[name]['fraction_from_poi_messages'] = 0\n",
    "    else:\n",
    "        data_dict[name]['fraction_from_poi_messages'] = float(from_this_person_to_poi) / float(from_messages)\n",
    "        \n",
    "### Store to my_dataset for easy export below.\n",
    "my_dataset = data_dict\n",
    "\n",
    "### Extract features and labels from dataset for local testing\n",
    "data = featureFormat(my_dataset, features_list, sort_keys = True)\n",
    "labels, features = targetFeatureSplit(data)"
   ]
  },
  {
   "cell_type": "markdown",
   "metadata": {},
   "source": [
    "<b>f) Descriptive statistics of the dataset:</b>"
   ]
  },
  {
   "cell_type": "markdown",
   "metadata": {},
   "source": [
    "After cleaning the data and introducing new features, the dimensions of the Enron dataset are 143 rows and 15 columns. \n",
    "\n",
    "From the list of 143 employees only 18 (12.5%) are POIs and 125 (87.4%) are not POIs. Therefore, it can be concluded that <b><i>the dataset shows the class (POI) imbalance problem, 18 POI to 125 non-POI. This is an issue as most of Machine Learning algorithms work best when instances of each class are equally balanced</i></b>."
   ]
  },
  {
   "cell_type": "code",
   "execution_count": 34,
   "metadata": {
    "collapsed": false
   },
   "outputs": [
    {
     "name": "stdout",
     "output_type": "stream",
     "text": [
      "Number of Rows and Columns:  (143, 15)\n",
      "\n",
      "POIs:  18.0\n",
      "non-POIs:  125.0\n",
      "\n",
      "features:  14\n",
      "\n",
      "features list:  ['salary', 'bonus', 'long_term_incentive', 'deferred_income', 'deferral_payments', 'loan_advances', 'other', 'expenses', 'director_fees', 'exercised_stock_options', 'restricted_stock', 'restricted_stock_deferred', 'fraction_to_poi_messages', 'fraction_from_poi_messages']\n"
     ]
    }
   ],
   "source": [
    "### Data exploration\n",
    "df = pd.DataFrame(data)\n",
    "df.columns = features_list\n",
    "print 'Number of Rows and Columns: ', df.shape\n",
    "print '\\nPOIs: ', df.poi.sum()\n",
    "print 'non-POIs: ', df['poi'].size - df.poi.sum()\n",
    "print '\\nfeatures: ', len(features_list)-1\n",
    "print '\\nfeatures list: ', features_list[1:len(features)]"
   ]
  },
  {
   "cell_type": "code",
   "execution_count": 177,
   "metadata": {
    "collapsed": false
   },
   "outputs": [
    {
     "data": {
      "image/png": "[encoded data removed]",
      "text/plain": [
       "<matplotlib.figure.Figure at 0x115bd9cd0>"
      ]
     },
     "metadata": {},
     "output_type": "display_data"
    }
   ],
   "source": [
    "sns.countplot(df.poi)\n",
    "plt.title(\"Persons of interest\\n(0 = No, 1 = Yes)\")\n",
    "plt.show()"
   ]
  },
  {
   "cell_type": "markdown",
   "metadata": {},
   "source": [
    "Considering the POI label and the 14 features included in the dataset a \"scatter plot matrix\" was created to visualize the distribution of the each of the variables with the purpose of identifying patterns in the data. In the diagonal of the matrix the kernel distribution estimated of each variable can be found, whereas in the other cells of the matrix a scatter plot of 2D is shown for each variable against the rest.\n",
    "\n",
    "The results reveal that none of the variables behave like a normal distribution, and in general there are no clear positive or negative associations. Also, almost all of the variables show an unequal distribution of values due to the presence of very extreme values."
   ]
  },
  {
   "cell_type": "code",
   "execution_count": 178,
   "metadata": {
    "collapsed": false
   },
   "outputs": [
    {
     "data": {
      "image/png": "[encoded data removed]",
      "text/plain": [
       "<matplotlib.figure.Figure at 0x1213e0d90>"
      ]
     },
     "metadata": {},
     "output_type": "display_data"
    }
   ],
   "source": [
    "from pandas.tools.plotting import scatter_matrix\n",
    "scatter_matrix(df, alpha=0.2, figsize=(15, 15), diagonal='kde')\n",
    "plt.show()"
   ]
  },
  {
   "cell_type": "markdown",
   "metadata": {
    "collapsed": true
   },
   "source": [
    "In this section an exploratory data analysis was conducted to get a sense of the Enron financial and email data. The dataset used for the analysis was cleaned from NaNs and outliers. The labels indicating persons of interest and the features were described using visualization methods. In particular it was found that none of these variables have a normal distribution and that they have extreme values. Such values were not removed as they play an important role in identifying persons of interest that may have been subject of fraud investigation. Also, it was found that the POI class is underrepresented as it is the 12.5% of all employees included in the data compared with the non-POI that account to 87.4% of the total. In the next section an exercise of fitting different classifiers is conducted using the information described above."
   ]
  },
  {
   "cell_type": "markdown",
   "metadata": {},
   "source": [
    "## 6. Model estimations\n",
    "\n",
    "The problem that is being tried to solve is the classification of POI/non-POI using financial and email data. It is worth to mention that the data acquired is already classified. Therefore, the solution approach is based on supervised learning algorithms that will use a portion of the data to learn its underlying patterns so it can predict the rest of the unseen data. The proposed classification algorithms used are Naive Bayes, Decision Tree, Logit Model and K-Nearest Neighbors (KNN).\n",
    "\n",
    "Furthermore, the metrics used to evaluate and compare each of the fitted algorithms are accuracy score, precision score, recall score and F score. The following code defines a group of functions to facilitate the evaluation and comparison of the algorithms performance."
   ]
  },
  {
   "cell_type": "code",
   "execution_count": 179,
   "metadata": {
    "collapsed": false
   },
   "outputs": [],
   "source": [
    "from sklearn.metrics import accuracy_score\n",
    "from sklearn.metrics import precision_score\n",
    "from sklearn.metrics import recall_score\n",
    "from sklearn.metrics import f1_score\n",
    "from sklearn.metrics import precision_recall_fscore_support\n",
    "from sklearn.metrics import confusion_matrix\n",
    "\n",
    "# Defines a function that returns a dictionary containing the results of comparing the predicted vs the observed labels.\n",
    "def modelEvaluation(prediction, real_observations):\n",
    "    accuracyScore = accuracy_score(prediction, real_observations)\n",
    "    precisionScore = precision_score(prediction, real_observations)\n",
    "    recallScore = recall_score(prediction, real_observations)\n",
    "    f1Score = f1_score(prediction, real_observations)\n",
    "    confusion = confusion_matrix(prediction, real_observations)\n",
    "    \n",
    "    results = {'Accuracy_score': accuracyScore,\n",
    "               'Precision_score': precisionScore, \n",
    "               'Recall_score': recallScore, \n",
    "               'F_score': f1Score,\n",
    "               'Predictions':len(labels_test),\n",
    "               'True positives': confusion[1,1],\n",
    "               'True negatives': confusion[0,0],\n",
    "               'False positives': confusion[0,1],\n",
    "               'False negatives': confusion[1,0]\n",
    "              }\n",
    "    return results\n",
    "# Defines a function that returns a dataframe containing the results for all the fitted models.\n",
    "def finalResults(results):\n",
    "    cols = ['Accuracy_score','Precision_score','Recall_score','F_score','Predictions','True positives','False positives','False negatives','True negatives']\n",
    "    final_results = pd.DataFrame(results,cols).transpose()\n",
    "    final_results = final_results.sort_values('F_score',ascending=False)\n",
    "    return final_results"
   ]
  },
  {
   "cell_type": "markdown",
   "metadata": {},
   "source": [
    "<b>Dataset split in training and testing sets</b>"
   ]
  },
  {
   "cell_type": "markdown",
   "metadata": {},
   "source": [
    "The first step in the fitting process was splitting the original dataset into training and testing sets. <b><i>The purpose of splitting the original dataset was to prevent building an overfitted model; that means that the model will maximize its performance based on all the observed data but will likely perform bad when predicting with unseen information</i></b>. Therefore, splitting the set in two allows to use one set to train the model and another to test the performance of the model.\n",
    "\n",
    "The method used for splitting the data was the train_test_split in sklearn package. The training set represents 70% of the employees in the dataset and the testing set represents 30% of the dataset."
   ]
  },
  {
   "cell_type": "code",
   "execution_count": 180,
   "metadata": {
    "collapsed": true
   },
   "outputs": [],
   "source": [
    "# Step 1: Split data\n",
    "from sklearn.model_selection import train_test_split\n",
    "features_train, features_test, labels_train, labels_test = \\\n",
    "    train_test_split(features, labels, test_size=0.3, random_state=42)"
   ]
  },
  {
   "cell_type": "markdown",
   "metadata": {},
   "source": [
    "The following code shows how each of the four classifiers are trained using the training features and labels split. Then the fitted classifiers are used to predict the label class which in this case is POI=1 or non-POI=0."
   ]
  },
  {
   "cell_type": "markdown",
   "metadata": {},
   "source": [
    "<b>a) Naive Bayes</b>"
   ]
  },
  {
   "cell_type": "code",
   "execution_count": 181,
   "metadata": {
    "collapsed": false
   },
   "outputs": [],
   "source": [
    "from sklearn.model_selection import cross_val_score\n",
    "from sklearn.naive_bayes import GaussianNB\n",
    "clf = GaussianNB()\n",
    "clf.fit(features_train,labels_train)\n",
    "pred = clf.predict(features_test)\n",
    "NB_results = modelEvaluation(pred, labels_test)"
   ]
  },
  {
   "cell_type": "markdown",
   "metadata": {},
   "source": [
    "<b>b) Decision Tree</b>"
   ]
  },
  {
   "cell_type": "code",
   "execution_count": 183,
   "metadata": {
    "collapsed": false
   },
   "outputs": [],
   "source": [
    "from sklearn.tree import DecisionTreeClassifier\n",
    "clf = DecisionTreeClassifier()\n",
    "clf.fit(features_train,labels_train)\n",
    "pred = clf.predict(features_test)\n",
    "DT_results = modelEvaluation(pred, labels_test)"
   ]
  },
  {
   "cell_type": "markdown",
   "metadata": {},
   "source": [
    "<b>c) Logit Regression</b>"
   ]
  },
  {
   "cell_type": "code",
   "execution_count": 185,
   "metadata": {
    "collapsed": false
   },
   "outputs": [],
   "source": [
    "from sklearn.linear_model import LogisticRegression\n",
    "clf_logit = LogisticRegression()\n",
    "clf_logit.fit(features_train,labels_train)\n",
    "pred = clf_logit.predict(features_test)\n",
    "LogitResults = modelEvaluation(pred, labels_test)"
   ]
  },
  {
   "cell_type": "markdown",
   "metadata": {},
   "source": [
    "<b>d) K-Nearest Neighbors</b>"
   ]
  },
  {
   "cell_type": "code",
   "execution_count": 187,
   "metadata": {
    "collapsed": false
   },
   "outputs": [],
   "source": [
    "from sklearn.neighbors import KNeighborsClassifier\n",
    "clf = KNeighborsClassifier()\n",
    "clf.fit(features_train,labels_train)\n",
    "pred = clf.predict(features_test)\n",
    "K_NNResults = modelEvaluation(pred, labels_test)"
   ]
  },
  {
   "cell_type": "markdown",
   "metadata": {},
   "source": [
    "<b>Results for initial model estimations</b>"
   ]
  },
  {
   "cell_type": "markdown",
   "metadata": {},
   "source": [
    "The following table presents the results of prediction of the four classifiers using the testing features set (sample=43). The metrics used to compare the models were accuracy, precision, recall and F scores. Also the number of True Positives, False Positives, False Negatives and True Negatives are shown. The metrics were calculated using the prediction and the testing labels. \n",
    "\n",
    "It can be seen that considering the accuracy score, K-Nearest Neighbors and Decision Tree offer the best results. However, looking at the number of True Positives predicted both classifiers fail to identify at least one POI from the 5 available in the testing set. Therefore, their precision score is zero. In this sense, Naive Bayes and Logit Regression were better at predicting true positives."
   ]
  },
  {
   "cell_type": "code",
   "execution_count": 189,
   "metadata": {
    "collapsed": false
   },
   "outputs": [
    {
     "data": {
      "text/html": [
       "<div>\n",
       "<table border=\"1\" class=\"dataframe\">\n",
       "  <thead>\n",
       "    <tr style=\"text-align: right;\">\n",
       "      <th></th>\n",
       "      <th>Accuracy_score</th>\n",
       "      <th>Precision_score</th>\n",
       "      <th>Recall_score</th>\n",
       "      <th>F_score</th>\n",
       "      <th>Predictions</th>\n",
       "      <th>True positives</th>\n",
       "      <th>False positives</th>\n",
       "      <th>False negatives</th>\n",
       "      <th>True negatives</th>\n",
       "    </tr>\n",
       "  </thead>\n",
       "  <tbody>\n",
       "    <tr>\n",
       "      <th>Naive Bayes</th>\n",
       "      <td>0.790698</td>\n",
       "      <td>0.6</td>\n",
       "      <td>0.3</td>\n",
       "      <td>0.400000</td>\n",
       "      <td>43.0</td>\n",
       "      <td>3.0</td>\n",
       "      <td>2.0</td>\n",
       "      <td>7.0</td>\n",
       "      <td>31.0</td>\n",
       "    </tr>\n",
       "    <tr>\n",
       "      <th>Logit</th>\n",
       "      <td>0.744186</td>\n",
       "      <td>0.4</td>\n",
       "      <td>0.2</td>\n",
       "      <td>0.266667</td>\n",
       "      <td>43.0</td>\n",
       "      <td>2.0</td>\n",
       "      <td>3.0</td>\n",
       "      <td>8.0</td>\n",
       "      <td>30.0</td>\n",
       "    </tr>\n",
       "    <tr>\n",
       "      <th>Decision Tree</th>\n",
       "      <td>0.837209</td>\n",
       "      <td>0.0</td>\n",
       "      <td>0.0</td>\n",
       "      <td>0.000000</td>\n",
       "      <td>43.0</td>\n",
       "      <td>0.0</td>\n",
       "      <td>5.0</td>\n",
       "      <td>2.0</td>\n",
       "      <td>36.0</td>\n",
       "    </tr>\n",
       "    <tr>\n",
       "      <th>KNN</th>\n",
       "      <td>0.883721</td>\n",
       "      <td>0.0</td>\n",
       "      <td>0.0</td>\n",
       "      <td>0.000000</td>\n",
       "      <td>43.0</td>\n",
       "      <td>0.0</td>\n",
       "      <td>5.0</td>\n",
       "      <td>0.0</td>\n",
       "      <td>38.0</td>\n",
       "    </tr>\n",
       "  </tbody>\n",
       "</table>\n",
       "</div>"
      ],
      "text/plain": [
       "               Accuracy_score  Precision_score  Recall_score   F_score  \\\n",
       "Naive Bayes          0.790698              0.6           0.3  0.400000   \n",
       "Logit                0.744186              0.4           0.2  0.266667   \n",
       "Decision Tree        0.837209              0.0           0.0  0.000000   \n",
       "KNN                  0.883721              0.0           0.0  0.000000   \n",
       "\n",
       "               Predictions  True positives  False positives  False negatives  \\\n",
       "Naive Bayes           43.0             3.0              2.0              7.0   \n",
       "Logit                 43.0             2.0              3.0              8.0   \n",
       "Decision Tree         43.0             0.0              5.0              2.0   \n",
       "KNN                   43.0             0.0              5.0              0.0   \n",
       "\n",
       "               True negatives  \n",
       "Naive Bayes              31.0  \n",
       "Logit                    30.0  \n",
       "Decision Tree            36.0  \n",
       "KNN                      38.0  "
      ]
     },
     "execution_count": 189,
     "metadata": {},
     "output_type": "execute_result"
    }
   ],
   "source": [
    "results = {'Naive Bayes': NB_results, 'Decision Tree': DT_results, 'Logit': LogitResults, 'KNN': K_NNResults}\n",
    "finalResults(results)"
   ]
  },
  {
   "cell_type": "markdown",
   "metadata": {},
   "source": [
    "The preliminary results showed that none of the classifiers were good enough to predict persons of interest. It is worth to mention that this results could be the result of using the given split of data. Therefore, the following section applies optimization and cross validation techniques to test the robustness of each classifier."
   ]
  },
  {
   "cell_type": "markdown",
   "metadata": {},
   "source": [
    "## 7. Feature selection optimization and fine tuning algorithms\n",
    "The objective of this section was to use the training set to fit the same classifiers trying with different set of features, scaled features, different parameters and using cross validation techniques to identify the best possible classifier for each learning algorithm.\n",
    "\n",
    "<b><i>In this section the validation process is conducted using cross-validation instead of the train-test split as the results of the latter are high variance meaning that they depend on the elements arrangement of the two sets.</i></b> Therefore, cross-validation allow us to run the model in K different splits where all observations are used to train and test and the performance metrics are averaged to reduce the high variance.\n",
    "\n",
    "The cross validation technique applied in this stage is stratified shuffle split with 10 splits. This means that the orginal sample was splitted 10 times in training and testing sets. Also, that the model was run in the 10 splits and the final performance metric is the average of the performance metrics of the 10 splits.\n",
    "\n",
    "In order to conduct the optimization, process several times, the process is systematized using a Pipeline with the following steps:\n",
    "<ol>\n",
    "<li>Scaling features using the minimum and maximum method.</li>\n",
    "<li>Conducting feature selection using Select K Best.</li>\n",
    "<li>Fitting classifier</li>\n",
    "</ol>\n",
    "\n",
    "In this sense, parameter tuning was executed using Grid Search. Different sets of parameters for each classifier were tried. Stratified K-Fold cross validation was conducted for 10 splits. The best combination of features and parameters per classifier is chosen to predict the POIs using the testing set."
   ]
  },
  {
   "cell_type": "code",
   "execution_count": 190,
   "metadata": {
    "collapsed": false
   },
   "outputs": [],
   "source": [
    "from sklearn.model_selection import GridSearchCV\n",
    "from sklearn.pipeline import Pipeline\n",
    "from sklearn.preprocessing import MinMaxScaler\n",
    "from sklearn.model_selection import StratifiedShuffleSplit\n",
    "from sklearn.feature_selection import SelectKBest, f_classif"
   ]
  },
  {
   "cell_type": "markdown",
   "metadata": {},
   "source": [
    "<b>a) Naive Bayes</b>"
   ]
  },
  {
   "cell_type": "markdown",
   "metadata": {},
   "source": [
    "The Naive Bayes classifier is one of the simplest algorithms as it does not have parameters to be tuned. Therefore, to optimize the performance of the classifier the number of features is varied, until the classifier with the best performance is found."
   ]
  },
  {
   "cell_type": "code",
   "execution_count": 191,
   "metadata": {
    "collapsed": false
   },
   "outputs": [
    {
     "data": {
      "text/plain": [
       "GridSearchCV(cv=10, error_score='raise',\n",
       "       estimator=Pipeline(steps=[('scaler', MinMaxScaler(copy=True, feature_range=(0, 1))), ('kbest', SelectKBest(k=10, score_func=<function f_classif at 0x1282c62a8>)), ('clf', GaussianNB(priors=None))]),\n",
       "       fit_params={}, iid=True, n_jobs=1,\n",
       "       param_grid={'kbest__k': [1, 2, 3, 4, 5, 6, 7, 8, 9, 10, 11, 12, 13, 14]},\n",
       "       pre_dispatch='2*n_jobs', refit=True, return_train_score=True,\n",
       "       scoring='f1', verbose=0)"
      ]
     },
     "execution_count": 191,
     "metadata": {},
     "output_type": "execute_result"
    }
   ],
   "source": [
    "# Step 1: Split the data in training and testing set(see above)\n",
    "\n",
    "# Step 2: Make pipeline\n",
    "pipeline = Pipeline([\n",
    "        ('scaler', MinMaxScaler()),\n",
    "        ('kbest',SelectKBest()),\n",
    "        ('clf', GaussianNB())\n",
    "    ])\n",
    "\n",
    "# Step 3: Set parameters list\n",
    "k_features = range(1,len(features_list))\n",
    "param_grid = {'kbest__k': k_features}\n",
    "\n",
    "#Step 4: Make cross validation iterator\n",
    "#sss = StratifiedShuffleSplit(n_splits=1000, test_size=0.1, train_size=None, random_state=42)\n",
    "# Stratified KFold set to 10 folds\n",
    "\n",
    "# Step 5: Make the GridSearchCV object clf with the paramters set above: pipeline, param_grid, sss\n",
    "gridNB = GridSearchCV(estimator = pipeline,\n",
    "                             param_grid = param_grid,\n",
    "                             scoring = 'f1',\n",
    "                             cv= 10)\n",
    "\n",
    "# Step 6: Do training and cross validation with clf (fit to the data)\n",
    "gridNB.fit(features_train,labels_train)\n",
    "#pprint.pprint(grid.cv_results_) "
   ]
  },
  {
   "cell_type": "markdown",
   "metadata": {},
   "source": [
    "The best Naive Bayes classifier used four of the fourteen features: salary, bonus, exercised stock options and fraction of emails from POIs."
   ]
  },
  {
   "cell_type": "code",
   "execution_count": 192,
   "metadata": {
    "collapsed": false
   },
   "outputs": [
    {
     "name": "stdout",
     "output_type": "stream",
     "text": [
      "\n",
      "Best parameters chosen from the grid:\n",
      "{'kbest__k': 4}\n",
      "The Features Selected by SKB - GS:\n",
      "['salary', 'bonus', 'exercised_stock_options', 'fraction_from_poi_messages']\n"
     ]
    }
   ],
   "source": [
    "# Step 6.1: Get the set of best parameters and features\n",
    "print '\\nBest parameters chosen from the grid:'\n",
    "pprint.pprint(gridNB.best_params_)\n",
    "features_selected = [features_list[i+1] for i in gridNB.best_estimator_.named_steps['kbest'].get_support(indices=True)]\n",
    "print 'The Features Selected by SKB - GS:'\n",
    "pprint.pprint(features_selected)"
   ]
  },
  {
   "cell_type": "markdown",
   "metadata": {},
   "source": [
    "The following graph displays the mean scores for each feature using NB classifier. It can be seen that the bonus variable is the most powerful to predict POIs, then salary and fraction of email messages from POIs, and finally exercised stock options."
   ]
  },
  {
   "cell_type": "code",
   "execution_count": 193,
   "metadata": {
    "collapsed": false
   },
   "outputs": [
    {
     "data": {
      "image/png": "[encoded data removed]",
      "text/plain": [
       "<matplotlib.figure.Figure at 0x11770c850>"
      ]
     },
     "metadata": {},
     "output_type": "display_data"
    }
   ],
   "source": [
    "f = features_list[1:]\n",
    "s = gridNB.best_estimator_.named_steps['kbest'].scores_\n",
    "results = {'features':f,'scores': s}\n",
    "selectKBestScores = pd.DataFrame(results).sort_values('scores',ascending=False)\n",
    "sns.barplot(x=selectKBestScores.features, y=selectKBestScores.scores)\n",
    "plt.title(\"K Best Scores in Naive Bayes\")\n",
    "plt.xticks(rotation=90)\n",
    "plt.show()"
   ]
  },
  {
   "cell_type": "markdown",
   "metadata": {},
   "source": [
    "Considering the four features described above the best NB classifier is estimated and used to predict POIs."
   ]
  },
  {
   "cell_type": "code",
   "execution_count": 194,
   "metadata": {
    "collapsed": false
   },
   "outputs": [],
   "source": [
    "# Step 6.2: Get best estimator\n",
    "clf = gridNB.best_estimator_"
   ]
  },
  {
   "cell_type": "code",
   "execution_count": 195,
   "metadata": {
    "collapsed": false
   },
   "outputs": [],
   "source": [
    "# Step 7: Predict with testing set\n",
    "pred = clf.predict(features_test)\n",
    "tunedNaiveBayes = modelEvaluation(pred, labels_test)\n",
    "#test_classifier(clf, my_dataset, features_list)"
   ]
  },
  {
   "cell_type": "markdown",
   "metadata": {},
   "source": [
    "<b>b) Decision Tree</b>"
   ]
  },
  {
   "cell_type": "markdown",
   "metadata": {},
   "source": [
    "Using the same logic here the Decision Tree is optimized using different set of features and parameters. The tuned parameters are the decision tree strategy to split each node using the best strategy to split or a random strategy to split (see details in <a href=\"http://scikit-learn.org/stable/modules/generated/sklearn.tree.DecisionTreeClassifier.html#sklearn.tree.DecisionTreeClassifier\">DT documentation</a>); also the minimum number of samples required to split an internal node is tuned changing the default of two samples to three."
   ]
  },
  {
   "cell_type": "code",
   "execution_count": 196,
   "metadata": {
    "collapsed": false,
    "scrolled": true
   },
   "outputs": [
    {
     "data": {
      "text/plain": [
       "GridSearchCV(cv=10, error_score='raise',\n",
       "       estimator=Pipeline(steps=[('scaler', MinMaxScaler(copy=True, feature_range=(0, 1))), ('kbest', SelectKBest(k=10, score_func=<function f_classif at 0x1282c62a8>)), ('clf', DecisionTreeClassifier(class_weight=None, criterion='gini', max_depth=None,\n",
       "            max_features=None, max_leaf_nodes=None,\n",
       "            min_impurity_split=1e-07, min_samples_leaf=1,\n",
       "            min_samples_split=2, min_weight_fraction_leaf=0.0,\n",
       "            presort=False, random_state=None, splitter='best'))]),\n",
       "       fit_params={}, iid=True, n_jobs=1,\n",
       "       param_grid={'kbest__k': [1, 2, 3, 4, 5, 6, 7, 8, 9, 10, 11, 12, 13, 14], 'clf__splitter': ['best', 'random'], 'clf__min_samples_split': [2, 3]},\n",
       "       pre_dispatch='2*n_jobs', refit=True, return_train_score=True,\n",
       "       scoring='f1', verbose=0)"
      ]
     },
     "execution_count": 196,
     "metadata": {},
     "output_type": "execute_result"
    }
   ],
   "source": [
    "# Step 1: Split the data in training and testing set(see above)\n",
    "\n",
    "# Step 2: Make pipeline\n",
    "pipeline = Pipeline([\n",
    "        ('scaler', MinMaxScaler()),\n",
    "        ('kbest',SelectKBest()),\n",
    "        ('clf', DecisionTreeClassifier())\n",
    "        ])\n",
    "\n",
    "# Step 3: Set parameters list\n",
    "param_grid = {'kbest__k': k_features,\n",
    "              'clf__splitter' : ['best','random'], \n",
    "              'clf__min_samples_split':[2,3]}\n",
    "\n",
    "#Step 4: Make cross validation iterator\n",
    "#sss = StratifiedShuffleSplit(n_splits=20, test_size=0.1, train_size=None, random_state=None)\n",
    "\n",
    "# Step 5: Make the GridSearchCV object clf with the paramters set above: pipeline, param_grid, sss\n",
    "gridDT = GridSearchCV(estimator = pipeline,\n",
    "                             param_grid = param_grid,\n",
    "                             scoring = 'f1',\n",
    "                             cv= 10)\n",
    "\n",
    "# Step 6: Do training and cross validation with clf (fit to the data)\n",
    "gridDT.fit(features_train,labels_train)"
   ]
  },
  {
   "cell_type": "markdown",
   "metadata": {},
   "source": [
    "The parameters of the best classifier are a minimum number of 2 sample slits and a random strategy to split nodes. "
   ]
  },
  {
   "cell_type": "code",
   "execution_count": 197,
   "metadata": {
    "collapsed": false
   },
   "outputs": [
    {
     "name": "stdout",
     "output_type": "stream",
     "text": [
      "\n",
      "Best parameters chosen from the grid:\n",
      "{'clf__min_samples_split': 3, 'clf__splitter': 'random', 'kbest__k': 11}\n"
     ]
    }
   ],
   "source": [
    "# Step 6.1: Get the set of best parameters\n",
    "print '\\nBest parameters chosen from the grid:'\n",
    "pprint.pprint(gridDT.best_params_)"
   ]
  },
  {
   "cell_type": "markdown",
   "metadata": {},
   "source": [
    "The best classifier is obtained using only the bonus as a feature."
   ]
  },
  {
   "cell_type": "code",
   "execution_count": 198,
   "metadata": {
    "collapsed": false
   },
   "outputs": [
    {
     "name": "stdout",
     "output_type": "stream",
     "text": [
      "The Features Selected by SKB - GS:\n",
      "['salary',\n",
      " 'bonus',\n",
      " 'long_term_incentive',\n",
      " 'deferred_income',\n",
      " 'loan_advances',\n",
      " 'other',\n",
      " 'expenses',\n",
      " 'director_fees',\n",
      " 'exercised_stock_options',\n",
      " 'restricted_stock',\n",
      " 'fraction_from_poi_messages']\n"
     ]
    }
   ],
   "source": [
    "# Step 6.2: Get best estimator feature importances\n",
    "features_selected = [features_list[i+1] for i in gridDT.best_estimator_.named_steps['kbest'].get_support(indices=True)]\n",
    "print 'The Features Selected by SKB - GS:'\n",
    "pprint.pprint(features_selected)"
   ]
  },
  {
   "cell_type": "code",
   "execution_count": 199,
   "metadata": {
    "collapsed": false
   },
   "outputs": [
    {
     "data": {
      "image/png": "[encoded data removed]",
      "text/plain": [
       "<matplotlib.figure.Figure at 0x11c4bfa10>"
      ]
     },
     "metadata": {},
     "output_type": "display_data"
    }
   ],
   "source": [
    "f = features_list[1:]\n",
    "s = gridDT.best_estimator_.named_steps['kbest'].scores_\n",
    "results = {'features':f,'scores': s}\n",
    "selectKBestScores = pd.DataFrame(results).sort_values('scores',ascending=False)\n",
    "sns.barplot(x=selectKBestScores.features, y=selectKBestScores.scores)\n",
    "plt.title(\"K Best Scores in Decision Tree\")\n",
    "plt.xticks(rotation=90)\n",
    "plt.show()"
   ]
  },
  {
   "cell_type": "markdown",
   "metadata": {},
   "source": [
    "The best Decision Tree classifier is estimated and used to predict POIs."
   ]
  },
  {
   "cell_type": "code",
   "execution_count": 200,
   "metadata": {
    "collapsed": true
   },
   "outputs": [],
   "source": [
    "# Step 6.3: Get best estimator\n",
    "clf_final = gridDT.best_estimator_"
   ]
  },
  {
   "cell_type": "code",
   "execution_count": 201,
   "metadata": {
    "collapsed": false
   },
   "outputs": [],
   "source": [
    "# Step 7: Predict with testing set\n",
    "pred = clf.predict(features_test)\n",
    "tunedDecisionTree = modelEvaluation(pred, labels_test)\n",
    "#test_classifier(clf_final, my_dataset, features_list)"
   ]
  },
  {
   "cell_type": "markdown",
   "metadata": {},
   "source": [
    "<b>c) Logit Regression</b>"
   ]
  },
  {
   "cell_type": "markdown",
   "metadata": {},
   "source": [
    "In the logit regression besides the feature selection the following parameters are tuned. Inverse of regularization strength (C) and the algorithm to use in the optimization problem (solver). For more details about the parameters see <a href=\"http://scikit-learn.org/stable/modules/generated/sklearn.linear_model.LogisticRegression.html\">documentation</a>."
   ]
  },
  {
   "cell_type": "code",
   "execution_count": 202,
   "metadata": {
    "collapsed": false
   },
   "outputs": [
    {
     "data": {
      "text/plain": [
       "GridSearchCV(cv=10, error_score='raise',\n",
       "       estimator=Pipeline(steps=[('scaler', MinMaxScaler(copy=True, feature_range=(0, 1))), ('kbest', SelectKBest(k=10, score_func=<function f_classif at 0x1282c62a8>)), ('clf', LogisticRegression(C=1.0, class_weight=None, dual=False, fit_intercept=True,\n",
       "          intercept_scaling=1, max_iter=100, multi_class='ovr', n_jobs=1,\n",
       "          penalty='l2', random_state=None, solver='liblinear', tol=0.0001,\n",
       "          verbose=0, warm_start=False))]),\n",
       "       fit_params={}, iid=True, n_jobs=1,\n",
       "       param_grid={'kbest__k': [1, 2, 3, 4, 5, 6, 7, 8, 9, 10, 11, 12, 13, 14], 'clf__C': [1, 1.1, 1.2, 1.3, 1.4, 1.5, 1.6, 1.7, 1.8, 1.9, 2], 'clf__solver': ['liblinear', 'sag']},\n",
       "       pre_dispatch='2*n_jobs', refit=True, return_train_score=True,\n",
       "       scoring='f1', verbose=0)"
      ]
     },
     "execution_count": 202,
     "metadata": {},
     "output_type": "execute_result"
    }
   ],
   "source": [
    "# Step 1: Split the data in training and testing set(see above)\n",
    "\n",
    "# Step 2: Make pipeline\n",
    "pipeline = Pipeline([\n",
    "        ('scaler', MinMaxScaler()),\n",
    "        ('kbest',SelectKBest()),\n",
    "        ('clf', LogisticRegression())\n",
    "        ])\n",
    "\n",
    "# Step 3: Set parameters list\n",
    "param_grid = {'kbest__k': k_features,\n",
    "              'clf__C' : [1,1.1,1.2,1.3,1.4, 1.5,1.6,1.7,1.8,1.9,2], \n",
    "              'clf__solver':['liblinear','sag']}\n",
    "\n",
    "#Step 4: Make cross validation iterator\n",
    "#sss = StratifiedShuffleSplit(n_splits=20, test_size=0.1, train_size=None, random_state=None)\n",
    "\n",
    "# Step 5: Make the GridSearchCV object clf with the paramters set above: pipeline, param_grid, sss\n",
    "gridLogit = GridSearchCV(estimator = pipeline,\n",
    "                             param_grid = param_grid,\n",
    "                             scoring = 'f1',\n",
    "                             cv= 10)\n",
    "\n",
    "# Step 6: Do training and cross validation with clf (fit to the data)\n",
    "gridLogit.fit(features_train,labels_train)"
   ]
  },
  {
   "cell_type": "markdown",
   "metadata": {},
   "source": [
    "The parameters for the best classifier are a marginal increment in the C feature of 1 to 1.1 and a liblinear solver."
   ]
  },
  {
   "cell_type": "code",
   "execution_count": 203,
   "metadata": {
    "collapsed": false
   },
   "outputs": [
    {
     "name": "stdout",
     "output_type": "stream",
     "text": [
      "\n",
      "Best parameters chosen from the grid:\n",
      "{'clf__C': 1.1, 'clf__solver': 'liblinear', 'kbest__k': 10}\n"
     ]
    }
   ],
   "source": [
    "# Step 6.1: Get the set of best parameters\n",
    "print '\\nBest parameters chosen from the grid:'\n",
    "pprint.pprint(gridLogit.best_params_)"
   ]
  },
  {
   "cell_type": "markdown",
   "metadata": {},
   "source": [
    "The best classifier is obtained using the following set of features: salary, bonus, long_term_incentive, deferred income, loan_advances, other, expenses, exercised stock options, restricted stock and fraction from POI messages."
   ]
  },
  {
   "cell_type": "code",
   "execution_count": 204,
   "metadata": {
    "collapsed": false
   },
   "outputs": [
    {
     "name": "stdout",
     "output_type": "stream",
     "text": [
      "The Features Selected by SKB - GS:\n",
      "['salary',\n",
      " 'bonus',\n",
      " 'long_term_incentive',\n",
      " 'deferred_income',\n",
      " 'loan_advances',\n",
      " 'other',\n",
      " 'expenses',\n",
      " 'exercised_stock_options',\n",
      " 'restricted_stock',\n",
      " 'fraction_from_poi_messages']\n"
     ]
    }
   ],
   "source": [
    "# Step 6.2: Get best estimator\n",
    "features_selected = [features_list[i+1] for i in gridLogit.best_estimator_.named_steps['kbest'].get_support(indices=True)]\n",
    "print 'The Features Selected by SKB - GS:'\n",
    "pprint.pprint(features_selected)"
   ]
  },
  {
   "cell_type": "code",
   "execution_count": 205,
   "metadata": {
    "collapsed": false
   },
   "outputs": [
    {
     "data": {
      "image/png": "[encoded data removed]",
      "text/plain": [
       "<matplotlib.figure.Figure at 0x120d1d450>"
      ]
     },
     "metadata": {},
     "output_type": "display_data"
    }
   ],
   "source": [
    "f = features_list[1:]\n",
    "s = gridLogit.best_estimator_.named_steps['kbest'].scores_\n",
    "results = {'features':f,'scores': s}\n",
    "selectKBestScores = pd.DataFrame(results).sort_values('scores',ascending=False)\n",
    "sns.barplot(x=selectKBestScores.features, y=selectKBestScores.scores)\n",
    "plt.title(\"K Best Scores in Logistic Regression\")\n",
    "plt.xticks(rotation=90)\n",
    "plt.show()"
   ]
  },
  {
   "cell_type": "markdown",
   "metadata": {},
   "source": [
    "The best Logit Regression classifier is estimated and used to predict POIs."
   ]
  },
  {
   "cell_type": "code",
   "execution_count": 206,
   "metadata": {
    "collapsed": true
   },
   "outputs": [],
   "source": [
    "# Step 6.3: Get best estimator\n",
    "clf = gridLogit.best_estimator_"
   ]
  },
  {
   "cell_type": "code",
   "execution_count": 207,
   "metadata": {
    "collapsed": false
   },
   "outputs": [],
   "source": [
    "# Step 7: Predict with testing set\n",
    "pred = clf.predict(features_test)\n",
    "tunedLogit = modelEvaluation(pred, labels_test)\n",
    "#test_classifier(clf, my_dataset, features_list)"
   ]
  },
  {
   "cell_type": "markdown",
   "metadata": {},
   "source": [
    "<b>d) K-Nearest Neighbors</b>"
   ]
  },
  {
   "cell_type": "markdown",
   "metadata": {},
   "source": [
    "In the K-Nearest Neighbors classifier besides the feature selection the following parameters are tuned. The number of neighbors used for the classification ranging from 4 to 7. Also the the weight function used in prediction. (See <a href=\"http://scikit-learn.org/stable/modules/generated/sklearn.neighbors.KNeighborsClassifier.html\">documentation</a>)."
   ]
  },
  {
   "cell_type": "code",
   "execution_count": 208,
   "metadata": {
    "collapsed": false
   },
   "outputs": [
    {
     "data": {
      "text/plain": [
       "GridSearchCV(cv=10, error_score='raise',\n",
       "       estimator=Pipeline(steps=[('scaler', MinMaxScaler(copy=True, feature_range=(0, 1))), ('kbest', SelectKBest(k=10, score_func=<function f_classif at 0x1282c62a8>)), ('clf', KNeighborsClassifier(algorithm='auto', leaf_size=30, metric='minkowski',\n",
       "           metric_params=None, n_jobs=1, n_neighbors=5, p=2,\n",
       "           weights='uniform'))]),\n",
       "       fit_params={}, iid=True, n_jobs=1,\n",
       "       param_grid={'kbest__k': [1, 2, 3, 4, 5, 6, 7, 8, 9, 10, 11, 12, 13, 14], 'clf__weights': ['uniform', 'distance'], 'clf__n_neighbors': [4, 5, 6, 7]},\n",
       "       pre_dispatch='2*n_jobs', refit=True, return_train_score=True,\n",
       "       scoring='f1', verbose=0)"
      ]
     },
     "execution_count": 208,
     "metadata": {},
     "output_type": "execute_result"
    }
   ],
   "source": [
    "# Step 1: Split the data in training and testing set(see above)\n",
    "\n",
    "# Step 2: Make pipeline\n",
    "pipeline = Pipeline([\n",
    "        ('scaler', MinMaxScaler()),\n",
    "        ('kbest',SelectKBest()),\n",
    "        ('clf', KNeighborsClassifier())\n",
    "        ])\n",
    "# Step 3: Set parameters list\n",
    "param_grid = {'kbest__k': k_features,\n",
    "              'clf__n_neighbors' : [4,5,6,7], \n",
    "              'clf__weights':['uniform','distance']}\n",
    "\n",
    "#Step 4: Make cross validation iterator\n",
    "#sss = StratifiedShuffleSplit(n_splits=20, test_size=0.1, train_size=None, random_state=None)\n",
    "\n",
    "# Step 5: Make the GridSearchCV object clf with the paramters set above: pipeline, param_grid, sss\n",
    "gridKNN = GridSearchCV(estimator = pipeline,\n",
    "                             param_grid = param_grid,\n",
    "                             scoring = 'f1',\n",
    "                             cv= 10)\n",
    "\n",
    "# Step 6: Do training and cross validation with clf (fit to the data)\n",
    "gridKNN.fit(features_train,labels_train)"
   ]
  },
  {
   "cell_type": "code",
   "execution_count": 209,
   "metadata": {
    "collapsed": false
   },
   "outputs": [
    {
     "data": {
      "image/png": "[encoded data removed]",
      "text/plain": [
       "<matplotlib.figure.Figure at 0x1229f7590>"
      ]
     },
     "metadata": {},
     "output_type": "display_data"
    }
   ],
   "source": [
    "f = features_list[1:]\n",
    "s = gridKNN.best_estimator_.named_steps['kbest'].scores_\n",
    "results = {'features':f,'scores': s}\n",
    "selectKBestScores = pd.DataFrame(results).sort_values('scores',ascending=False)\n",
    "sns.barplot(x=selectKBestScores.features, y=selectKBestScores.scores)\n",
    "plt.title(\"K Best Scores in K-NN classifier\")\n",
    "plt.xticks(rotation=90)\n",
    "plt.show()"
   ]
  },
  {
   "cell_type": "code",
   "execution_count": 210,
   "metadata": {
    "collapsed": false
   },
   "outputs": [
    {
     "name": "stdout",
     "output_type": "stream",
     "text": [
      "\n",
      "Best parameters chosen from the grid:\n",
      "{'clf__n_neighbors': 4, 'clf__weights': 'distance', 'kbest__k': 1}\n"
     ]
    }
   ],
   "source": [
    "# Step 6.1: Get the set of best parameters\n",
    "print '\\nBest parameters chosen from the grid:'\n",
    "pprint.pprint(gridKNN.best_params_)"
   ]
  },
  {
   "cell_type": "markdown",
   "metadata": {},
   "source": [
    "The best K-NN classifier was estimated and used to predict POIs."
   ]
  },
  {
   "cell_type": "code",
   "execution_count": 211,
   "metadata": {
    "collapsed": true
   },
   "outputs": [],
   "source": [
    "# Step 6.2: Get best estimator\n",
    "clf = gridKNN.best_estimator_"
   ]
  },
  {
   "cell_type": "code",
   "execution_count": 212,
   "metadata": {
    "collapsed": false
   },
   "outputs": [],
   "source": [
    "# Step 7: Predict with testing set\n",
    "pred = clf.predict(features_test)\n",
    "tunedKNN = modelEvaluation(pred, labels_test)\n",
    "#test_classifier(clf, my_dataset, features_list)"
   ]
  },
  {
   "cell_type": "markdown",
   "metadata": {},
   "source": [
    "<b>Final results for fine-tuned algorithms</b>"
   ]
  },
  {
   "cell_type": "markdown",
   "metadata": {},
   "source": [
    "The following table presents the results of prediction for the four fine-tuned classifiers using the testing features set (sample=43). The metrics used to compare the models are accuracy, precision, recall and F scores. Also the number of True Positives, False Positives, False Negatives and True Negatives are shown. The metrics are calculated using the prediction and the testing labels.\n",
    "\n",
    "In comparison with the first estimation of the classifiers it can be seen that the Decision Tree (DT) and the Naive Bayes (NB) offer the best results. Recall and precision scores are improved. Moreover, both classifiers are the only ones that can predict the most number of true positives.\n",
    "\n",
    "It is also worth to point out that after tuning all the classifiers the number of false positives and false negatives are minimized."
   ]
  },
  {
   "cell_type": "code",
   "execution_count": 213,
   "metadata": {
    "collapsed": false
   },
   "outputs": [
    {
     "data": {
      "text/html": [
       "<div>\n",
       "<table border=\"1\" class=\"dataframe\">\n",
       "  <thead>\n",
       "    <tr style=\"text-align: right;\">\n",
       "      <th></th>\n",
       "      <th>Accuracy_score</th>\n",
       "      <th>Precision_score</th>\n",
       "      <th>Recall_score</th>\n",
       "      <th>F_score</th>\n",
       "      <th>Predictions</th>\n",
       "      <th>True positives</th>\n",
       "      <th>False positives</th>\n",
       "      <th>False negatives</th>\n",
       "      <th>True negatives</th>\n",
       "    </tr>\n",
       "  </thead>\n",
       "  <tbody>\n",
       "    <tr>\n",
       "      <th>Decision Tree</th>\n",
       "      <td>0.883721</td>\n",
       "      <td>0.6</td>\n",
       "      <td>0.5</td>\n",
       "      <td>0.545455</td>\n",
       "      <td>43.0</td>\n",
       "      <td>3.0</td>\n",
       "      <td>2.0</td>\n",
       "      <td>3.0</td>\n",
       "      <td>35.0</td>\n",
       "    </tr>\n",
       "    <tr>\n",
       "      <th>Naive Bayes</th>\n",
       "      <td>0.883721</td>\n",
       "      <td>0.6</td>\n",
       "      <td>0.5</td>\n",
       "      <td>0.545455</td>\n",
       "      <td>43.0</td>\n",
       "      <td>3.0</td>\n",
       "      <td>2.0</td>\n",
       "      <td>3.0</td>\n",
       "      <td>35.0</td>\n",
       "    </tr>\n",
       "    <tr>\n",
       "      <th>Logit</th>\n",
       "      <td>0.906977</td>\n",
       "      <td>0.2</td>\n",
       "      <td>1.0</td>\n",
       "      <td>0.333333</td>\n",
       "      <td>43.0</td>\n",
       "      <td>1.0</td>\n",
       "      <td>4.0</td>\n",
       "      <td>0.0</td>\n",
       "      <td>38.0</td>\n",
       "    </tr>\n",
       "    <tr>\n",
       "      <th>KNN</th>\n",
       "      <td>0.860465</td>\n",
       "      <td>0.0</td>\n",
       "      <td>0.0</td>\n",
       "      <td>0.000000</td>\n",
       "      <td>43.0</td>\n",
       "      <td>0.0</td>\n",
       "      <td>5.0</td>\n",
       "      <td>1.0</td>\n",
       "      <td>37.0</td>\n",
       "    </tr>\n",
       "  </tbody>\n",
       "</table>\n",
       "</div>"
      ],
      "text/plain": [
       "               Accuracy_score  Precision_score  Recall_score   F_score  \\\n",
       "Decision Tree        0.883721              0.6           0.5  0.545455   \n",
       "Naive Bayes          0.883721              0.6           0.5  0.545455   \n",
       "Logit                0.906977              0.2           1.0  0.333333   \n",
       "KNN                  0.860465              0.0           0.0  0.000000   \n",
       "\n",
       "               Predictions  True positives  False positives  False negatives  \\\n",
       "Decision Tree         43.0             3.0              2.0              3.0   \n",
       "Naive Bayes           43.0             3.0              2.0              3.0   \n",
       "Logit                 43.0             1.0              4.0              0.0   \n",
       "KNN                   43.0             0.0              5.0              1.0   \n",
       "\n",
       "               True negatives  \n",
       "Decision Tree            35.0  \n",
       "Naive Bayes              35.0  \n",
       "Logit                    38.0  \n",
       "KNN                      37.0  "
      ]
     },
     "execution_count": 213,
     "metadata": {},
     "output_type": "execute_result"
    }
   ],
   "source": [
    "results = {'Naive Bayes': tunedNaiveBayes, 'Decision Tree': tunedDecisionTree, 'Logit': tunedLogit, 'KNN': tunedKNN}\n",
    "finalResults(results)"
   ]
  },
  {
   "cell_type": "markdown",
   "metadata": {},
   "source": [
    "The accuracy of DT and NB is of 90%; however, this is not the most appropriate metric in the light that there are very few POIs in the dataset, and therefore in the testing set. Meaning that the accuracy score is kind of biased in the sense that it is praising the prediction of true negatives, and that is not exactly the purpose of the project.\n",
    "\n",
    "To overcome the accuracy issue, the precision score and recall score play a better role for interpretation. A recall score of 0.5 says that our models correctly predict 50% of the time POIs that are in fact POIs. Moreover, the precision score of 0.6 means that both classifiers are able to correctly predict 60% of POIs from all those employees that were predicted as POI. Overall, the precision score is better than the recall score meaning that whenever a POI gets flagged in the test set, I know with confidence that it is very likely to be a real POI and not a false alarm. Both classifiers reached a F score of 55% of flagging a POI when it is a POI and not flagging a POI when it is not a POI."
   ]
  },
  {
   "cell_type": "markdown",
   "metadata": {},
   "source": [
    "## 8. Conclusion"
   ]
  },
  {
   "cell_type": "markdown",
   "metadata": {
    "collapsed": true
   },
   "source": [
    "The purpose of this project was to build a supervised learning algorithm capable of using Enron financial and email data to predict which of the employees are Persons of Interest and which are not. Four algorithms were tested and optimized and Naive Bayes and Decision Tree classifier offered the best results. They both achieved a precision and recall score of 0.6 and 0.5 respectively. It could be argued that such metrics are not high enough, however the results are good enough considering that the dataset contained very few observations of POIs, 12.5% from the total."
   ]
  }
 ],
 "metadata": {
  "anaconda-cloud": {},
  "kernelspec": {
   "display_name": "Python [conda env:DAND]",
   "language": "python",
   "name": "conda-env-DAND-py"
  },
  "language_info": {
   "codemirror_mode": {
    "name": "ipython",
    "version": 2
   },
   "file_extension": ".py",
   "mimetype": "text/x-python",
   "name": "python",
   "nbconvert_exporter": "python",
   "pygments_lexer": "ipython2",
   "version": "2.7.11"
  }
 },
 "nbformat": 4,
 "nbformat_minor": 1
}
